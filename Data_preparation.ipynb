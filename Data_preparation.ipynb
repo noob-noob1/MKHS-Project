{
 "cells": [
  {
   "cell_type": "code",
   "execution_count": 256,
   "metadata": {},
   "outputs": [],
   "source": [
    "import pandas as pd\n",
    "import numpy as np"
   ]
  },
  {
   "cell_type": "code",
   "execution_count": 257,
   "metadata": {},
   "outputs": [],
   "source": [
    "Tasks =pd.read_csv('/Users/yad/Desktop/Project/Weekly report 2021 copy.csv', encoding = \"ISO-8859-1\")"
   ]
  },
  {
   "cell_type": "code",
   "execution_count": 258,
   "metadata": {},
   "outputs": [
    {
     "name": "stdout",
     "output_type": "stream",
     "text": [
      "<class 'pandas.core.frame.DataFrame'>\n",
      "RangeIndex: 497 entries, 0 to 496\n",
      "Data columns (total 10 columns):\n",
      " #   Column               Non-Null Count  Dtype  \n",
      "---  ------               --------------  -----  \n",
      " 0   Date                 482 non-null    object \n",
      " 1   Accomodation         24 non-null     object \n",
      " 2   Huawei?              66 non-null     object \n",
      " 3   Location             457 non-null    object \n",
      " 4   Level                459 non-null    object \n",
      " 5   Type                 482 non-null    object \n",
      " 6   Description          458 non-null    object \n",
      " 7   Comments             81 non-null     object \n",
      " 8   Date Done            482 non-null    object \n",
      " 9   Maintenance-Time(h)  482 non-null    float64\n",
      "dtypes: float64(1), object(9)\n",
      "memory usage: 39.0+ KB\n"
     ]
    }
   ],
   "source": [
    "Tasks.info()"
   ]
  },
  {
   "cell_type": "code",
   "execution_count": 259,
   "metadata": {},
   "outputs": [],
   "source": [
    "#changing data types to desired ones and renaiming columns as well as renaming typos/removong whitespace "
   ]
  },
  {
   "cell_type": "code",
   "execution_count": 260,
   "metadata": {},
   "outputs": [],
   "source": [
    "Tasks['Description'] = Tasks['Description'].str.strip()\n",
    "Tasks.Type.replace(['pLumbing','plumbing ','Plumbing ','plumbing'], value=\"Plumbing\", inplace=True)\n",
    "Tasks.Type.replace('carpentry', value=\"Carpentry\", inplace=True)\n",
    "Tasks.Type.replace('civil', value=\"Civil\", inplace=True)\n",
    "\n",
    "\n",
    "\n",
    "# #whitespace removing "
   ]
  },
  {
   "cell_type": "code",
   "execution_count": 261,
   "metadata": {},
   "outputs": [],
   "source": [
    "Tasks.dropna(how=\"all\", axis=0, inplace=True)\n",
    "#droping extra indecies "
   ]
  },
  {
   "cell_type": "code",
   "execution_count": 262,
   "metadata": {},
   "outputs": [],
   "source": [
    "Tasks.rename(columns={\"Huawei?\":\"Huawei\", \"Date Done\": \"Date_Done\", \"Maintenance-Time(h)\":\"Maintenance-Time_h\"}, inplace=True)\n",
    "#renaming columns"
   ]
  },
  {
   "cell_type": "code",
   "execution_count": 263,
   "metadata": {},
   "outputs": [],
   "source": [
    "Tasks[\"Accomodation\"]=Tasks.Accomodation.replace(np.NAN, \"0\").replace(\"y\", 1)\n",
    "Tasks[\"Huawei\"]=Tasks.Huawei.replace(np.NAN, \"0\").replace([\"y\", \"Y\"], 1)\n",
    "#  Changing NAN to binary format in Huawei and accomodation"
   ]
  },
  {
   "cell_type": "code",
   "execution_count": 264,
   "metadata": {},
   "outputs": [],
   "source": [
    "Tasks[\"Date\"] = Tasks.Date.astype(\"datetime64[ns]\")\n",
    "Tasks[\"Date_Done\"] = Tasks.Date_Done.astype(\"datetime64[ns]\")\n",
    "Tasks['Huawei']=  Tasks.Huawei.astype('int')\n",
    "Tasks['Accomodation']=  Tasks.Accomodation.astype('int')\n",
    "#changing data types \n"
   ]
  },
  {
   "cell_type": "code",
   "execution_count": 265,
   "metadata": {},
   "outputs": [],
   "source": [
    "Tasks[\"Days_Taken\"]= Tasks[\"Date_Done\"]- Tasks['Date']\n",
    "# creating new columns"
   ]
  },
  {
   "cell_type": "code",
   "execution_count": 266,
   "metadata": {},
   "outputs": [],
   "source": [
    "Tasks.to_csv('data_prepared', index= False)"
   ]
  }
 ],
 "metadata": {
  "kernelspec": {
   "display_name": "Python 3",
   "language": "python",
   "name": "python3"
  },
  "language_info": {
   "codemirror_mode": {
    "name": "ipython",
    "version": 3
   },
   "file_extension": ".py",
   "mimetype": "text/x-python",
   "name": "python",
   "nbconvert_exporter": "python",
   "pygments_lexer": "ipython3",
   "version": "3.11.1"
  },
  "orig_nbformat": 4,
  "vscode": {
   "interpreter": {
    "hash": "aee8b7b246df8f9039afb4144a1f6fd8d2ca17a180786b69acc140d282b71a49"
   }
  }
 },
 "nbformat": 4,
 "nbformat_minor": 2
}
