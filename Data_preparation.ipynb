{
 "cells": [
  {
   "cell_type": "code",
   "execution_count": 9,
   "metadata": {},
   "outputs": [],
   "source": [
    "import pandas as pd\n",
    "import numpy as np"
   ]
  },
  {
   "cell_type": "code",
   "execution_count": 10,
   "metadata": {},
   "outputs": [],
   "source": [
    "Tasks =pd.read_csv('/Users/yad/Desktop/Project/Weekly report 2021 copy.csv', encoding = \"ISO-8859-1\")"
   ]
  },
  {
   "cell_type": "code",
   "execution_count": 11,
   "metadata": {},
   "outputs": [
    {
     "name": "stdout",
     "output_type": "stream",
     "text": [
      "<class 'pandas.core.frame.DataFrame'>\n",
      "RangeIndex: 497 entries, 0 to 496\n",
      "Data columns (total 10 columns):\n",
      " #   Column               Non-Null Count  Dtype  \n",
      "---  ------               --------------  -----  \n",
      " 0   Date                 482 non-null    object \n",
      " 1   Accomodation         24 non-null     object \n",
      " 2   Huawei?              66 non-null     object \n",
      " 3   Location             457 non-null    object \n",
      " 4   Level                459 non-null    object \n",
      " 5   Type                 482 non-null    object \n",
      " 6   Description          458 non-null    object \n",
      " 7   Comments             81 non-null     object \n",
      " 8   Date Done            482 non-null    object \n",
      " 9   Maintenance-Time(h)  482 non-null    float64\n",
      "dtypes: float64(1), object(9)\n",
      "memory usage: 39.0+ KB\n"
     ]
    }
   ],
   "source": [
    "Tasks.info()"
   ]
  },
  {
   "cell_type": "code",
   "execution_count": 24,
   "metadata": {},
   "outputs": [],
   "source": [
    "#changing data types to desired ones and renaiming columns as well as renaming typos "
   ]
  },
  {
   "cell_type": "code",
   "execution_count": 25,
   "metadata": {},
   "outputs": [],
   "source": [
    "Tasks.Type.replace('pLumbing', \"plumbing\", inplace=True)"
   ]
  },
  {
   "cell_type": "code",
   "execution_count": 13,
   "metadata": {},
   "outputs": [],
   "source": [
    "Tasks.dropna(how=\"all\", axis=0, inplace=True)"
   ]
  },
  {
   "cell_type": "code",
   "execution_count": 14,
   "metadata": {},
   "outputs": [],
   "source": [
    "Tasks.rename(columns={\"Huawei?\":\"Huawei\", \"Date Done\": \"Date_Done\"}, inplace=True)"
   ]
  },
  {
   "cell_type": "code",
   "execution_count": 28,
   "metadata": {},
   "outputs": [],
   "source": [
    "Tasks[\"Date\"] = Tasks.Date.astype(\"datetime64[ns]\")\n",
    "Tasks[\"Date_Done\"] = Tasks.Date_Done.astype(\"datetime64[ns]\")\n",
    "\n",
    "\n"
   ]
  },
  {
   "cell_type": "code",
   "execution_count": null,
   "metadata": {},
   "outputs": [],
   "source": [
    "#  Changing NAN to binary format in Huawei and accomodation"
   ]
  },
  {
   "cell_type": "code",
   "execution_count": 16,
   "metadata": {},
   "outputs": [],
   "source": [
    "Tasks[\"Accomodation\"]=Tasks.Accomodation.replace(np.NAN, \"0\").replace(\"y\", 1)"
   ]
  },
  {
   "cell_type": "code",
   "execution_count": 17,
   "metadata": {},
   "outputs": [],
   "source": [
    "Tasks[\"Huawei\"]=Tasks.Huawei.replace(np.NAN, \"0\").replace(\"y\", 1)"
   ]
  },
  {
   "cell_type": "code",
   "execution_count": 26,
   "metadata": {},
   "outputs": [],
   "source": [
    "Tasks[\"Days_Taken\"]= Tasks[\"Date_Done\"]- Tasks['Date']"
   ]
  },
  {
   "cell_type": "code",
   "execution_count": 29,
   "metadata": {},
   "outputs": [
    {
     "data": {
      "text/plain": [
       "0     2021-01-12\n",
       "1     2021-01-14\n",
       "2     2021-01-15\n",
       "3     2021-01-16\n",
       "4     2021-01-16\n",
       "         ...    \n",
       "477   2021-07-09\n",
       "478   2021-07-10\n",
       "479   2021-07-10\n",
       "480   2021-07-10\n",
       "481   2021-07-10\n",
       "Name: Date, Length: 482, dtype: datetime64[ns]"
      ]
     },
     "execution_count": 29,
     "metadata": {},
     "output_type": "execute_result"
    }
   ],
   "source": [
    "Tasks.Date"
   ]
  }
 ],
 "metadata": {
  "kernelspec": {
   "display_name": "Python 3",
   "language": "python",
   "name": "python3"
  },
  "language_info": {
   "codemirror_mode": {
    "name": "ipython",
    "version": 3
   },
   "file_extension": ".py",
   "mimetype": "text/x-python",
   "name": "python",
   "nbconvert_exporter": "python",
   "pygments_lexer": "ipython3",
   "version": "3.11.1"
  },
  "orig_nbformat": 4,
  "vscode": {
   "interpreter": {
    "hash": "aee8b7b246df8f9039afb4144a1f6fd8d2ca17a180786b69acc140d282b71a49"
   }
  }
 },
 "nbformat": 4,
 "nbformat_minor": 2
}
